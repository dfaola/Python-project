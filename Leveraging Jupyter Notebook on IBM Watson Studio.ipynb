{
    "cells": [
        {
            "metadata": {
                "collapsed": true
            },
            "cell_type": "markdown",
            "source": "# My Jupiter Notebook on IBM Watson Studio"
        },
        {
            "metadata": {},
            "cell_type": "markdown",
            "source": "David Faola"
        },
        {
            "metadata": {},
            "cell_type": "markdown",
            "source": "100% human"
        },
        {
            "metadata": {},
            "cell_type": "markdown",
            "source": "I am interested in data science because I love to understand and gain insight into data. "
        },
        {
            "metadata": {},
            "cell_type": "markdown",
            "source": "## The following code test the Guass formula"
        },
        {
            "metadata": {},
            "cell_type": "code",
            "source": "def guass(n):\n    return (n*(n+1))/2\n\nguass(100) == sum (range(101))",
            "execution_count": 1,
            "outputs": [
                {
                    "output_type": "execute_result",
                    "execution_count": 1,
                    "data": {
                        "text/plain": "True"
                    },
                    "metadata": {}
                }
            ]
        },
        {
            "metadata": {},
            "cell_type": "code",
            "source": "",
            "execution_count": null,
            "outputs": []
        }
    ],
    "metadata": {
        "kernelspec": {
            "name": "python3",
            "display_name": "Python 3.7",
            "language": "python"
        },
        "language_info": {
            "name": "python",
            "version": "3.7.10",
            "mimetype": "text/x-python",
            "codemirror_mode": {
                "name": "ipython",
                "version": 3
            },
            "pygments_lexer": "ipython3",
            "nbconvert_exporter": "python",
            "file_extension": ".py"
        }
    },
    "nbformat": 4,
    "nbformat_minor": 1
}